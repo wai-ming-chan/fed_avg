{
 "cells": [
  {
   "cell_type": "markdown",
   "metadata": {
    "colab_type": "text",
    "id": "view-in-github"
   },
   "source": [
    "<a href=\"https://colab.research.google.com/github/wai-ming-chan/fed_avg/blob/main/sanityCheck_MNIST.ipynb\" target=\"_parent\"><img src=\"https://colab.research.google.com/assets/colab-badge.svg\" alt=\"Open In Colab\"/></a>"
   ]
  },
  {
   "cell_type": "markdown",
   "metadata": {
    "id": "Mb6i00YcPZuK"
   },
   "source": [
    "# Demo program to train MNIST with Pytorch (Centralized training)\n",
    "\n",
    "Reference: [https://meinkappa.github.io/blog/2021/09/16/MNIST-In-Pytorch.html](https://meinkappa.github.io/blog/2021/09/16/MNIST-In-Pytorch.html)"
   ]
  },
  {
   "cell_type": "code",
   "execution_count": 1,
   "metadata": {
    "colab": {
     "base_uri": "https://localhost:8080/",
     "height": 35
    },
    "id": "1oMz_Z7RPJUY",
    "outputId": "9322909b-61ee-44a5-9194-b980545f9fb5"
   },
   "outputs": [],
   "source": [
    "# import libraries\n",
    "import torch\n",
    "from torch import nn\n",
    "from torch.utils.data import DataLoader\n",
    "from torchvision import datasets\n",
    "from torchvision.transforms import ToTensor, Lambda\n",
    "import matplotlib.pyplot as plt\n",
    "import numpy as np\n",
    "\n",
    "#-----------------------------------------------------------------------\n",
    "# libraries for pyTorch model Visualization\n",
    "! pip install -q torchview\n",
    "! pip install -q -U graphviz\n",
    "\n",
    "import torchvision\n",
    "\n",
    "from torchview import draw_graph\n",
    "from torch import nn\n",
    "import torch\n",
    "import graphviz\n",
    "\n",
    "# when running on VSCode run the below command\n",
    "# svg format on vscode does not give desired result\n",
    "graphviz.set_jupyter_format('png')\n",
    "#-----------------------------------------------------------------------\n",
    "! pip install -q torch-summary\n"
   ]
  },
  {
   "cell_type": "markdown",
   "metadata": {
    "id": "rVA-E840a8nV"
   },
   "source": [
    "### Loading dataset\n"
   ]
  },
  {
   "cell_type": "code",
   "execution_count": 2,
   "metadata": {
    "colab": {
     "base_uri": "https://localhost:8080/",
     "height": 652
    },
    "id": "fPbRQJU1QAsg",
    "outputId": "455a20ff-d702-4b62-e5c4-c802399e118c"
   },
   "outputs": [
    {
     "name": "stdout",
     "output_type": "stream",
     "text": [
      "[GPU mode] device:  cuda\n",
      "Dataset MNIST\n",
      "    Number of datapoints: 60000\n",
      "    Root location: data\n",
      "    Split: Train\n",
      "    StandardTransform\n",
      "Transform: ToTensor()\n",
      "training data size:  60000\n",
      "test data size:  10000\n",
      "torch.Size([1, 28, 28])\n",
      "torch.Size([28, 28])\n"
     ]
    },
    {
     "data": {
      "image/png": "[encoded data removed]",
      "text/plain": [
       "<Figure size 600x300 with 8 Axes>"
      ]
     },
     "metadata": {},
     "output_type": "display_data"
    }
   ],
   "source": [
    "# grab MNIST data with torchvision datasets\n",
    "## We can tell Pytorch how to manipulate the dataset by giving details.\n",
    "##\n",
    "### root: Where to store the data. We are storing it in data directory.\n",
    "### train: Whether to grab training dataset or testing dataset. \n",
    "###         Given True value, training_data is a training dataset from MNIST. \n",
    "###         On the other hand, test_data is a testing dataset from MNIST.\n",
    "### download: Whether to download if data is not already in root. We passed True to download the dataset.\n",
    "### transform: What to do with data. We are converting our images of handwritten digits into Pytorch tensors so that we can train our model.\n",
    "\n",
    "training_data = datasets.MNIST(\n",
    "    root='data',\n",
    "    train=True,\n",
    "    download=True,\n",
    "    transform=ToTensor()\n",
    ")\n",
    "\n",
    "test_data = datasets.MNIST(\n",
    "    root='data',\n",
    "    train=False,\n",
    "    download=True,\n",
    "    transform=ToTensor()\n",
    ")\n",
    "\n",
    "# Set GPU or CPU device. If GPU is available, we use it to speed up the training\n",
    "device = 'cuda' if torch.cuda.is_available() else 'cpu'\n",
    "if device == 'cuda':\n",
    "    print('[GPU mode] device: ', device)\n",
    "else:\n",
    "    print('[CPU mode] device: ', device)\n",
    "    \n",
    "\n",
    "# check the dimension of data\n",
    "print(training_data)\n",
    "print('training data size: ', len(training_data) )\n",
    "print('test data size: ', len(test_data) )\n",
    "print(training_data[0][0].shape)\n",
    "print(training_data[0][0].squeeze().shape)\n",
    "# plt.imshow(training_data[len(training_data)-1][0].squeeze(), cmap=\"gray\");\n",
    "# print('label: ', training_data[len(training_data)-1][1])\n",
    "\n",
    "\n",
    "figure = plt.figure(figsize=(6,3))\n",
    "cols, rows = 4, 2\n",
    "for i in range(1, cols * rows + 1):\n",
    "    sample_idx = torch.randint(len(training_data), size=(1,)).item()\n",
    "    img, label = training_data[sample_idx]\n",
    "    figure.add_subplot(rows, cols, i)\n",
    "    plt.title(label)\n",
    "    plt.axis(\"off\")\n",
    "    plt.imshow(img.squeeze(), cmap=\"gray\")\n",
    "plt.show()"
   ]
  },
  {
   "cell_type": "code",
   "execution_count": 3,
   "metadata": {
    "colab": {
     "base_uri": "https://localhost:8080/"
    },
    "id": "_7gGRZDnVpPn",
    "outputId": "71995a5e-2142-4841-a4a1-74e1da2cf665"
   },
   "outputs": [
    {
     "name": "stdout",
     "output_type": "stream",
     "text": [
      "156.25 157\n"
     ]
    }
   ],
   "source": [
    "# create a dataloader. \n",
    "## A dataloader divides our data by a given batch_size and hands out each one to our model for training\n",
    "## Our train_dataloader will have 64 images per batch, which makes a total of 157 batches.\n",
    "bs=64\n",
    "train_dataloader = DataLoader(training_data, batch_size=bs)\n",
    "test_dataloader = DataLoader(test_data, batch_size=bs)\n",
    "\n",
    "print(10000/64, len(test_dataloader))\n"
   ]
  },
  {
   "cell_type": "code",
   "execution_count": 4,
   "metadata": {
    "colab": {
     "base_uri": "https://localhost:8080/",
     "height": 1000
    },
    "id": "xFw7ceI7ax8l",
    "outputId": "e1f5f963-b639-4ff5-f35d-b7db4898ebb9"
   },
   "outputs": [
    {
     "name": "stdout",
     "output_type": "stream",
     "text": [
      "=================================================================\n",
      "Layer (type:depth-idx)                   Param #\n",
      "=================================================================\n",
      "├─Flatten: 1-1                           --\n",
      "├─Sequential: 1-2                        --\n",
      "|    └─Linear: 2-1                       157,000\n",
      "|    └─ReLU: 2-2                         --\n",
      "|    └─Linear: 2-3                       40,200\n",
      "|    └─ReLU: 2-4                         --\n",
      "|    └─Linear: 2-5                       2,010\n",
      "=================================================================\n",
      "Total params: 199,210\n",
      "Trainable params: 199,210\n",
      "Non-trainable params: 0\n",
      "=================================================================\n"
     ]
    },
    {
     "data": {
      "image/png": "[encoded data removed]",
      "text/plain": [
       "<graphviz.graphs.Digraph at 0x7f3e971a9970>"
      ]
     },
     "execution_count": 4,
     "metadata": {},
     "output_type": "execute_result"
    }
   ],
   "source": [
    "# setup our model now.\n",
    "\n",
    "class NeuralNetwork(nn.Module):\n",
    "    def __init__(self):\n",
    "        super().__init__()\n",
    "        self.flatten = nn.Flatten()\n",
    "        self.linear_relu_stack = nn.Sequential(\n",
    "            nn.Linear(28*28, 512),\n",
    "            nn.ReLU(),\n",
    "            nn.Linear(512, 10)\n",
    "        )\n",
    "\n",
    "    def forward(self, x):\n",
    "        x = self.flatten(x)\n",
    "        logits = self.linear_relu_stack(x)\n",
    "        return logits\n",
    "\n",
    "# Feed our model into GPU now if there is one.\n",
    "model = NeuralNetwork().to(device)\n",
    "# print(model)\n",
    "\n",
    "from torchsummary import summary\n",
    "# help(summary)\n",
    "# summary(model, input_size=(1,784), batch_size=bs)\n",
    "\n",
    "\n",
    "# Model 1: 2NN\n",
    "class MNIST_2NN(nn.Module):\n",
    "    def __init__(self):\n",
    "        super().__init__()\n",
    "        self.flatten = nn.Flatten()\n",
    "        self.linear_relu_stack = nn.Sequential(\n",
    "            nn.Linear(28*28, 200),\n",
    "            nn.ReLU(),\n",
    "            nn.Linear(200, 200),\n",
    "            nn.ReLU(),\n",
    "            nn.Linear(200, 10)\n",
    "        )\n",
    "\n",
    "    def forward(self, x):\n",
    "        x = self.flatten(x)\n",
    "        logits = self.linear_relu_stack(x)\n",
    "        return logits\n",
    "\n",
    "\n",
    "model_2NN = MNIST_2NN().to(device)\n",
    "summary(model_2NN, input_size=(1,784), batch_size=bs)\n",
    "\n",
    "\n",
    "model_graph = draw_graph(\n",
    "  model_2NN, \n",
    "  input_size=(bs,784), \n",
    "  graph_name='my2NN',\n",
    "  hide_inner_tensors=True,\n",
    "  hide_module_functions=False,\n",
    "  expand_nested=True,\n",
    "  roll=True, # rolls recursive models\n",
    "  save_graph=True\n",
    ")\n",
    "model_graph.visual_graph\n",
    "#-----------------------------------------------------------------------"
   ]
  },
  {
   "cell_type": "markdown",
   "metadata": {
    "id": "AzC4m8_faVP4"
   },
   "source": [
    "### Visualization of our defined models"
   ]
  },
  {
   "cell_type": "code",
   "execution_count": 5,
   "metadata": {
    "id": "3x6lqgb7bEdf"
   },
   "outputs": [],
   "source": [
    "if False:\n",
    "  # Visualization of model and trace (method 1: Torchviz )\n",
    "  ## ref: https://github.com/szagoruyko/pytorchviz\n",
    "  !pip install torchviz\n",
    "  from torchviz import make_dot\n",
    "\n",
    "  # model = nn.Sequential()\n",
    "  # model.add_module('W0', nn.Linear(8, 16))\n",
    "  # model.add_module('tanh', nn.Tanh())\n",
    "  # model.add_module('W1', nn.Linear(16, 1))\n",
    "  # make_dot(y.mean(), params=dict(model.named_parameters()), show_attrs=True, show_saved=True)\n",
    "\n",
    "  # x = torch.randn(1, 8)\n",
    "  # y = model(x)\n",
    "  # print('x: ', x)\n",
    "  # print('y: ', y)\n",
    "\n",
    "  model = NeuralNetwork().to(device)\n",
    "  sample_idx = torch.randint(len(training_data), size=(1,)).item() # randomly pick one sample\n",
    "  img, label = training_data[sample_idx]\n",
    "  y = model(img)\n",
    "  make_dot(y.mean(), params=dict(model.named_parameters()), show_attrs=True, show_saved=True)\n"
   ]
  },
  {
   "cell_type": "code",
   "execution_count": 6,
   "metadata": {
    "id": "zLyKLaivn9Vy"
   },
   "outputs": [],
   "source": [
    "if False:\n",
    "  # Visualization of pyTorch model (method 2: torchview)\n",
    "  # source: https://github.com/mert-kurttutan/torchview\n",
    "  ! pip install -q torchview\n",
    "  ! pip install -q -U graphviz\n",
    "\n",
    "  import torchvision\n",
    "\n",
    "  from torchview import draw_graph\n",
    "  from torch import nn\n",
    "  import torch\n",
    "  import graphviz\n",
    "\n",
    "  # when running on VSCode run the below command\n",
    "  # svg format on vscode does not give desired result\n",
    "  graphviz.set_jupyter_format('png')\n",
    "\n",
    "  summary(model, input_size=(1,784), batch_size=64)\n",
    "\n",
    "  batch_size=64\n",
    "  model_graph = draw_graph(\n",
    "    model, \n",
    "    input_size=(batch_size,784), \n",
    "    graph_name='myNN',\n",
    "    hide_inner_tensors=True,\n",
    "    hide_module_functions=False,\n",
    "    expand_nested=True,\n",
    "    roll=True, # rolls recursive models\n",
    "    save_graph=True\n",
    "  )\n",
    "  model_graph.visual_graph\n"
   ]
  },
  {
   "cell_type": "markdown",
   "metadata": {
    "id": "LfoM0sTYanZ3"
   },
   "source": [
    "### Some model hyperparameters setting"
   ]
  },
  {
   "cell_type": "code",
   "execution_count": null,
   "metadata": {
    "colab": {
     "base_uri": "https://localhost:8080/",
     "height": 1000
    },
    "id": "a3zrsL8Ca4Wy",
    "outputId": "8387e04d-95eb-4bdb-f6f9-0ff7ee944e81"
   },
   "outputs": [
    {
     "name": "stdout",
     "output_type": "stream",
     "text": [
      "[epoch: 0\t Train loss: 2.270055, Accuracy: 26.8%, Test loss: 2.267603 \n",
      "[epoch: 10\t Train loss: 0.554896, Accuracy: 84.0%, Test loss: 0.639600 \n",
      "[epoch: 20\t Train loss: 0.257249, Accuracy: 89.1%, Test loss: 0.396011 \n",
      "[epoch: 30\t Train loss: 0.193040, Accuracy: 90.5%, Test loss: 0.334192 \n",
      "[epoch: 40\t Train loss: 0.161578, Accuracy: 91.3%, Test loss: 0.302610 \n",
      "[epoch: 50\t Train loss: 0.139484, Accuracy: 92.1%, Test loss: 0.280677 \n",
      "[epoch: 60\t Train loss: 0.121911, Accuracy: 92.6%, Test loss: 0.262777 \n",
      "[epoch: 70\t Train loss: 0.106646, Accuracy: 93.0%, Test loss: 0.246966 \n",
      "[epoch: 80\t Train loss: 0.093459, Accuracy: 93.4%, Test loss: 0.232713 \n",
      "[epoch: 90\t Train loss: 0.082396, Accuracy: 93.8%, Test loss: 0.219681 \n",
      "[epoch: 100\t Train loss: 0.073128, Accuracy: 94.0%, Test loss: 0.207842 \n",
      "[epoch: 110\t Train loss: 0.065648, Accuracy: 94.3%, Test loss: 0.197046 \n",
      "[epoch: 120\t Train loss: 0.059766, Accuracy: 94.5%, Test loss: 0.187173 \n",
      "[epoch: 130\t Train loss: 0.055340, Accuracy: 94.8%, Test loss: 0.178231 \n",
      "[epoch: 140\t Train loss: 0.051688, Accuracy: 95.0%, Test loss: 0.170078 \n",
      "[epoch: 150\t Train loss: 0.048657, Accuracy: 95.2%, Test loss: 0.162728 \n",
      "[epoch: 160\t Train loss: 0.046124, Accuracy: 95.4%, Test loss: 0.156013 \n",
      "[epoch: 170\t Train loss: 0.044012, Accuracy: 95.6%, Test loss: 0.149857 \n",
      "[epoch: 180\t Train loss: 0.042144, Accuracy: 95.8%, Test loss: 0.144220 \n",
      "[epoch: 190\t Train loss: 0.040508, Accuracy: 96.0%, Test loss: 0.139048 \n",
      "[epoch: 200\t Train loss: 0.038971, Accuracy: 96.2%, Test loss: 0.134262 \n",
      "[epoch: 210\t Train loss: 0.037415, Accuracy: 96.2%, Test loss: 0.129808 \n",
      "[epoch: 220\t Train loss: 0.035860, Accuracy: 96.4%, Test loss: 0.125698 \n",
      "[epoch: 230\t Train loss: 0.034248, Accuracy: 96.4%, Test loss: 0.121903 \n",
      "[epoch: 240\t Train loss: 0.032614, Accuracy: 96.5%, Test loss: 0.118429 \n",
      "[epoch: 250\t Train loss: 0.031337, Accuracy: 96.6%, Test loss: 0.115210 \n",
      "[epoch: 260\t Train loss: 0.030229, Accuracy: 96.8%, Test loss: 0.112210 \n",
      "[epoch: 270\t Train loss: 0.029182, Accuracy: 96.8%, Test loss: 0.109394 \n",
      "[epoch: 280\t Train loss: 0.028124, Accuracy: 96.9%, Test loss: 0.106764 \n",
      "[epoch: 290\t Train loss: 0.027090, Accuracy: 96.9%, Test loss: 0.104337 \n",
      "[epoch: 300\t Train loss: 0.026065, Accuracy: 96.9%, Test loss: 0.102101 \n",
      "[epoch: 310\t Train loss: 0.025087, Accuracy: 97.0%, Test loss: 0.100010 \n",
      "[epoch: 320\t Train loss: 0.024115, Accuracy: 97.1%, Test loss: 0.098032 \n",
      "[epoch: 330\t Train loss: 0.023176, Accuracy: 97.1%, Test loss: 0.096169 \n",
      "[epoch: 340\t Train loss: 0.022325, Accuracy: 97.2%, Test loss: 0.094406 \n",
      "[epoch: 350\t Train loss: 0.021516, Accuracy: 97.2%, Test loss: 0.092722 \n",
      "[epoch: 360\t Train loss: 0.020761, Accuracy: 97.2%, Test loss: 0.091125 \n",
      "[epoch: 370\t Train loss: 0.019988, Accuracy: 97.3%, Test loss: 0.089632 \n",
      "[epoch: 380\t Train loss: 0.019264, Accuracy: 97.4%, Test loss: 0.088238 \n",
      "[epoch: 390\t Train loss: 0.018553, Accuracy: 97.4%, Test loss: 0.086940 \n",
      "[epoch: 400\t Train loss: 0.017839, Accuracy: 97.4%, Test loss: 0.085716 \n",
      "[epoch: 410\t Train loss: 0.017239, Accuracy: 97.4%, Test loss: 0.084575 \n",
      "[epoch: 420\t Train loss: 0.016653, Accuracy: 97.4%, Test loss: 0.083494 \n"
     ]
    }
   ],
   "source": [
    "# model parameters setting (will affect performance of the model)\n",
    "lr = 1e-3     # learning rate\n",
    "bs = 64       # batch size\n",
    "epochs = 500    # more epochs the more likely our model is going to learn from the dataset. However, too many epochs will overfit our model\n",
    "\n",
    "loss_fn = nn.CrossEntropyLoss() # Classificatin problem, we use Cross Entropy as loss function\n",
    "\n",
    "optimizer = torch.optim.SGD(model_2NN.parameters(), lr=lr) # an optimizer to update our parameters, we use stochastic gradient descent to reduce the loss.\n",
    "\n",
    "# define how we train our data\n",
    "def train_data(model):\n",
    "    for xb, yb in train_dataloader:   # fetch xb (a batch of images) and yb (a batch of labels) from train_dataloader\n",
    "        if device == 'cuda':\n",
    "            xb, yb = xb.cuda(), yb.cuda()\n",
    "        preds = model(xb)             # make a prediction\n",
    "        loss = loss_fn(preds, yb)     # compute the loss value\n",
    "        optimizer.zero_grad()         # set our gradient to zero\n",
    "        loss.backward()               # gradient descent\n",
    "        optimizer.step()              # update our weights and biases\n",
    "    loss = loss.item()\n",
    "    # print(f\"Train loss: {loss:>7f}\")\n",
    "    return loss\n",
    "\n",
    "\n",
    "\n",
    "# define how we test our model\n",
    "def test_data(model):\n",
    "    num_batches = len(test_dataloader)\n",
    "    size = len(test_dataloader.dataset)\n",
    "    test_loss, corrects = 0, 0\n",
    "\n",
    "    with torch.no_grad():             # Disabling gradient calculation for reduction of memory consumption for computations\n",
    "        for xb, yb in test_dataloader:\n",
    "            if device == 'cuda':\n",
    "                xb, yb = xb.cuda(), yb.cuda()\n",
    "            preds = model(xb)\n",
    "            test_loss += loss_fn(preds, yb).item()\n",
    "            corrects += (preds.argmax(1) == yb).type(torch.float).sum().item()\n",
    "  \n",
    "    test_loss /= num_batches\n",
    "    corrects /= size\n",
    "    # print(f\"Test loss: \\n Accuracy: {(100*corrects):>0.1f}%, Avg loss: {test_loss:>8f} \\n\")\n",
    "    return corrects, test_loss\n",
    "\n",
    "lossTR_vals= []\n",
    "lossTT_vals= []\n",
    "accu_vals= []\n",
    "for t in range(epochs):\n",
    "    loss_train_t = train_data(model_2NN)\n",
    "    accu_t, loss_test_t = test_data(model_2NN)\n",
    "    lossTR_vals.append(loss_train_t)\n",
    "    lossTT_vals.append(loss_test_t)\n",
    "    accu_vals.append(accu_t)\n",
    "\n",
    "    if t % 10 == 0:\n",
    "        print(f\"[epoch: {t}\\t Train loss: {loss_train_t:>7f}, Accuracy: {(100*accu_t):>0.1f}%, Test loss: {loss_test_t:>8f} \")\n",
    "\n",
    "# plt.plot(np.linspace(1, epochs,epochs).astype(int), loss_vals)\n",
    "# plt.plot(np.linspace(1, epochs,epochs).astype(int), loss_vals)\n",
    "\n",
    "plt.figure(figsize=(10,5))\n",
    "plt.title(\"Training and Validation Loss\")\n",
    "plt.plot(lossTT_vals,label=\"val\")\n",
    "plt.plot(lossTR_vals,label=\"train\")\n",
    "plt.xlabel(\"iterations\")\n",
    "plt.ylabel(\"Loss\")\n",
    "plt.legend()\n",
    "plt.savefig('Loss.png')\n",
    "plt.show()\n",
    "\n",
    "plt.figure(figsize=(10,5))\n",
    "plt.title(\"Test Data Accuracy\")\n",
    "plt.plot(accu_vals)\n",
    "plt.xlabel(\"iterations\")\n",
    "plt.ylabel(\"Accuracy\")\n",
    "plt.savefig('Accuracy.png')\n",
    "# plt.legend()\n",
    "plt.show()\n"
   ]
  },
  {
   "cell_type": "code",
   "execution_count": null,
   "metadata": {},
   "outputs": [],
   "source": []
  }
 ],
 "metadata": {
  "colab": {
   "authorship_tag": "ABX9TyOzFegKXh3GAyR8l4qWv4VN",
   "collapsed_sections": [
    "AzC4m8_faVP4"
   ],
   "include_colab_link": true,
   "provenance": []
  },
  "kernelspec": {
   "display_name": "Python (tf)",
   "language": "python",
   "name": "tf"
  },
  "language_info": {
   "codemirror_mode": {
    "name": "ipython",
    "version": 3
   },
   "file_extension": ".py",
   "mimetype": "text/x-python",
   "name": "python",
   "nbconvert_exporter": "python",
   "pygments_lexer": "ipython3",
   "version": "3.9.7"
  }
 },
 "nbformat": 4,
 "nbformat_minor": 1
}
