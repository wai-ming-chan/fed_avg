{
  "cells": [
    {
      "cell_type": "markdown",
      "metadata": {
        "id": "view-in-github",
        "colab_type": "text"
      },
      "source": [
        "<a href=\"https://colab.research.google.com/github/wai-ming-chan/fed_avg/blob/main/FedAvg_MNIST.ipynb\" target=\"_parent\"><img src=\"https://colab.research.google.com/assets/colab-badge.svg\" alt=\"Open In Colab\"/></a>"
      ]
    },
    {
      "cell_type": "markdown",
      "metadata": {
        "id": "Mb6i00YcPZuK"
      },
      "source": [
        "# Demo program to train MNIST with Pytorch (Federated Averging)\n",
        "\n",
        "Reference: [https://towardsdatascience.com/preserving-data-privacy-in-deep-learning-part-1-a04894f78029](https://towardsdatascience.com/preserving-data-privacy-in-deep-learning-part-1-a04894f78029)"
      ]
    },
    {
      "cell_type": "code",
      "execution_count": 1,
      "metadata": {
        "id": "1oMz_Z7RPJUY"
      },
      "outputs": [],
      "source": [
        "###############################\n",
        "##### importing libraries #####\n",
        "###############################\n",
        "\n",
        "import os\n",
        "import random\n",
        "from tqdm import tqdm\n",
        "import numpy as np\n",
        "import math\n",
        "\n",
        "import torch, torchvision\n",
        "from torch import nn\n",
        "import torch.nn.functional as F\n",
        "import torch.optim as optim\n",
        "\n",
        "from torch.utils.data import DataLoader, Dataset\n",
        "from torchvision import datasets, transforms\n",
        "from torch.utils.data.dataset import Dataset   \n",
        "torch.backends.cudnn.benchmark=True\n",
        "\n",
        "from torchvision import datasets\n",
        "from torchvision.transforms import ToTensor, Lambda\n",
        "import matplotlib.pyplot as plt\n",
        "\n",
        "#-----------------------------------------------------------------------\n",
        "# libraries for pyTorch model Visualization\n",
        "! pip install -q torchview\n",
        "! pip install -q -U graphviz\n",
        "\n",
        "# import torchvision\n",
        "\n",
        "from torchview import draw_graph\n",
        "from torch import nn\n",
        "import torch\n",
        "import graphviz\n",
        "\n",
        "# when running on VSCode run the below command\n",
        "# svg format on vscode does not give desired result\n",
        "graphviz.set_jupyter_format('png')\n",
        "#-----------------------------------------------------------------------\n",
        "! pip install -q torch-summary\n",
        "from torchsummary import summary\n"
      ]
    },
    {
      "cell_type": "markdown",
      "metadata": {
        "id": "AzC4m8_faVP4"
      },
      "source": [
        "### Hyper-parameters setting"
      ]
    },
    {
      "cell_type": "code",
      "execution_count": 2,
      "metadata": {
        "id": "zLyKLaivn9Vy",
        "colab": {
          "base_uri": "https://localhost:8080/"
        },
        "outputId": "33d1662b-bcfc-4fb5-e334-dd5284fa4fb5"
      },
      "outputs": [
        {
          "output_type": "stream",
          "name": "stdout",
          "text": [
            "[CPU mode] device:  cpu\n"
          ]
        }
      ],
      "source": [
        "class system_args:\n",
        "\n",
        "    # Set GPU or CPU device. If GPU is available, we use it to speed up the training\n",
        "    device = 'cuda' if torch.cuda.is_available() else 'cpu'\n",
        "    if device == 'cuda':\n",
        "        print('[GPU mode] device: ', device)\n",
        "    else:\n",
        "        print('[CPU mode] device: ', device)\n",
        "    verbose = 1\n",
        "\n",
        "    num_clients = 100                     # Total number of clients\n",
        "    num_rounds = 5                      # number of communication rounds (num of server epoches)\n",
        "    # bs = 64                               # batch size\n",
        "    # epochs = 100                          \n",
        "    lr = 1e-3                             # learning rate\n",
        "    \n",
        "    frac_C = 0.1        # C, fraction of clients that perform computation on each round\n",
        "    local_epoches = 20  # E, number of training passes each client makes over its local dataset on each round\n",
        "    local_bs = 10       # B, the local minibatch size used for the client updates.\n",
        "    iid = True          # IID or Non-IID data partition \n",
        "\n",
        "    num_selected = math.ceil(frac_C * num_clients)\n",
        "\n"
      ]
    },
    {
      "cell_type": "markdown",
      "source": [
        "### Helper functions for Federated Training"
      ],
      "metadata": {
        "id": "U3smey_sQlHU"
      }
    },
    {
      "cell_type": "code",
      "execution_count": 3,
      "metadata": {
        "id": "DSasc06sOP88"
      },
      "outputs": [],
      "source": [
        "def client_update(client_model, optimizer, train_loader, system_args):\n",
        "    model.train()   # tells your model that you are training the model (model.train()\tvs model.eval())\n",
        "    for e in range(system_args.local_epoches):\n",
        "        for batch_idx, (data, target) in enumerate(train_loader):\n",
        "            if system_args.device == 'cuda':\n",
        "                data, target = data.cuda(), target.cuda()\n",
        "            output = client_model(data)       # make a prediction\n",
        "            loss = F.nll_loss(output, target) # compute the loss value\n",
        "            optimizer.zero_grad()             # set our gradient to zero\n",
        "            loss.backward()                   # gradient descent\n",
        "            optimizer.step()                  # update our weights and biases\n",
        "    return loss.item()\n",
        "\n",
        "\n",
        "\n",
        "def server_aggregate(global_model, client_models, system_args):\n",
        "    ### This will take simple mean of the weights of models ###\n",
        "      global_dict = global_model.state_dict()\n",
        "      for k in global_dict.keys():\n",
        "          global_dict[k] = torch.stack([client_models[i].state_dict()[k].float() for i in range(len(client_models))], 0).mean(0)\n",
        "      \n",
        "      global_model.load_state_dict(global_dict)\n",
        "      \n",
        "      for model in client_models:\n",
        "          model.load_state_dict(global_model.state_dict())\n",
        "\n",
        "\n",
        "def test(global_model, test_loader):\n",
        "    \"\"\"This function test the global model on test data and returns test loss and test accuracy \"\"\"\n",
        "    model.eval()  # sets model in evaluation (inference) mode\n",
        "    test_loss = 0\n",
        "    correct = 0\n",
        "    with torch.no_grad():\n",
        "        for data, target in test_loader:\n",
        "            if system_args.device == 'cuda':\n",
        "                data, target = data.cuda(), target.cuda()\n",
        "            output = global_model(data)\n",
        "            test_loss += F.nll_loss(output, target, reduction='sum').item()  # sum up batch loss\n",
        "            pred = output.argmax(dim=1, keepdim=True)  # get the index of the max log-probability\n",
        "            correct += pred.eq(target.view_as(pred)).sum().item()\n",
        "\n",
        "    test_loss /= len(test_loader.dataset)\n",
        "    acc = correct / len(test_loader.dataset)\n",
        "\n",
        "    return test_loss, acc"
      ]
    },
    {
      "cell_type": "code",
      "execution_count": 4,
      "metadata": {
        "colab": {
          "base_uri": "https://localhost:8080/",
          "height": 1000
        },
        "id": "xFw7ceI7ax8l",
        "outputId": "52d872c9-7d46-47ba-c939-d361e8cf56d8"
      },
      "outputs": [
        {
          "output_type": "stream",
          "name": "stdout",
          "text": [
            "=================================================================\n",
            "Layer (type:depth-idx)                   Param #\n",
            "=================================================================\n",
            "├─Flatten: 1-1                           --\n",
            "├─Sequential: 1-2                        --\n",
            "|    └─Linear: 2-1                       157,000\n",
            "|    └─ReLU: 2-2                         --\n",
            "|    └─Linear: 2-3                       40,200\n",
            "|    └─ReLU: 2-4                         --\n",
            "|    └─Linear: 2-5                       2,010\n",
            "=================================================================\n",
            "Total params: 199,210\n",
            "Trainable params: 199,210\n",
            "Non-trainable params: 0\n",
            "=================================================================\n"
          ]
        },
        {
          "output_type": "execute_result",
          "data": {
            "image/png": "[encoded data removed]",
            "text/plain": [
              "<graphviz.graphs.Digraph at 0x7fc1b4359a60>"
            ]
          },
          "metadata": {},
          "execution_count": 4
        }
      ],
      "source": [
        "# setup our model now.\n",
        "\n",
        "# Model 1: 2NN\n",
        "class MNIST_2NN(nn.Module):\n",
        "    def __init__(self):\n",
        "        super().__init__()\n",
        "        self.flatten = nn.Flatten()\n",
        "        self.linear_relu_stack = nn.Sequential(\n",
        "            nn.Linear(28*28, 200),\n",
        "            nn.ReLU(),\n",
        "            nn.Linear(200, 200),\n",
        "            nn.ReLU(),\n",
        "            nn.Linear(200, 10)\n",
        "        )\n",
        "\n",
        "    def forward(self, x):\n",
        "        x = self.flatten(x)\n",
        "        logits = self.linear_relu_stack(x)\n",
        "        return logits\n",
        "\n",
        "\n",
        "model_2NN = MNIST_2NN().to(system_args.device)\n",
        "summary(model_2NN, input_size=(1,28*28), batch_size=system_args.local_bs)\n",
        "\n",
        "\n",
        "model_graph = draw_graph(\n",
        "  model_2NN, \n",
        "  input_size=(system_args.local_bs,28*28), \n",
        "  graph_name='my2NN',\n",
        "  hide_inner_tensors=True,\n",
        "  hide_module_functions=False,\n",
        "  expand_nested=True,\n",
        "  roll=True, # rolls recursive models\n",
        "  save_graph=True\n",
        ")\n",
        "model_graph.visual_graph\n",
        "#-----------------------------------------------------------------------"
      ]
    },
    {
      "cell_type": "markdown",
      "metadata": {
        "id": "rVA-E840a8nV"
      },
      "source": [
        "### Loading dataset\n"
      ]
    },
    {
      "cell_type": "code",
      "execution_count": 5,
      "metadata": {
        "colab": {
          "base_uri": "https://localhost:8080/"
        },
        "id": "fPbRQJU1QAsg",
        "outputId": "61c57a02-4bf2-4e11-c6b4-d9ceb2d2fa63"
      },
      "outputs": [
        {
          "output_type": "stream",
          "name": "stdout",
          "text": [
            "Dataset MNIST\n",
            "    Number of datapoints: 60000\n",
            "    Root location: data\n",
            "    Split: Train\n",
            "    StandardTransform\n",
            "Transform: ToTensor()\n",
            "training data size:  60000\n",
            "test data size:  10000\n",
            "torch.Size([1, 28, 28])\n",
            "torch.Size([28, 28])\n",
            "156.25 157\n"
          ]
        }
      ],
      "source": [
        "# grab MNIST data with torchvision datasets\n",
        "## We can tell Pytorch how to manipulate the dataset by giving details.\n",
        "##\n",
        "### root: Where to store the data. We are storing it in data directory.\n",
        "### train: Whether to grab training dataset or testing dataset. \n",
        "###         Given True value, training_data is a training dataset from MNIST. \n",
        "###         On the other hand, test_data is a testing dataset from MNIST.\n",
        "### download: Whether to download if data is not already in root. We passed True to download the dataset.\n",
        "### transform: What to do with data. We are converting our images of handwritten digits into Pytorch tensors so that we can train our model.\n",
        "\n",
        "# Loading MNIST dataset using torchvision.datasets\n",
        "training_data = datasets.MNIST(\n",
        "    root='data',\n",
        "    train=True,\n",
        "    download=True,\n",
        "    transform=ToTensor()\n",
        ")\n",
        "\n",
        "test_dataset = datasets.MNIST(\n",
        "    root='data',\n",
        "    train=False,\n",
        "    download=True,\n",
        "    transform=ToTensor()\n",
        ")\n",
        "\n",
        "# Dividing the training data into num_clients, with each client having equal number of images\n",
        "traindata_split = torch.utils.data.random_split(\n",
        "    training_data, \n",
        "    [int(training_data.data.shape[0] / system_args.num_clients) for _ in range(system_args.num_clients)]\n",
        ")\n",
        "    \n",
        "# Creating a pytorch loader for a Deep Learning model\n",
        "train_loader = [torch.utils.data.DataLoader(x, batch_size=system_args.local_bs, shuffle=True) for x in traindata_split]\n",
        "\n",
        "# Loading the test iamges and thus converting them into a test_loader\n",
        "test_loader = torch.utils.data.DataLoader(\n",
        "        test_dataset, \n",
        "        batch_size=system_args.local_bs, \n",
        "        shuffle=True\n",
        ")\n",
        "\n",
        "\n",
        "# check the dimension of data\n",
        "print(training_data)\n",
        "print('training data size: ', len(training_data) )\n",
        "print('test data size: ', len(test_dataset) )\n",
        "print(training_data[0][0].shape)\n",
        "print(training_data[0][0].squeeze().shape)\n",
        "# plt.imshow(training_data[len(training_data)-1][0].squeeze(), cmap=\"gray\");\n",
        "# print('label: ', training_data[len(training_data)-1][1])\n",
        "\n",
        "if False:\n",
        "  figure = plt.figure(figsize=(6,3))\n",
        "  cols, rows = 4, 2\n",
        "  for i in range(1, cols * rows + 1):\n",
        "      sample_idx = torch.randint(len(training_data), size=(1,)).item()\n",
        "      img, label = training_data[sample_idx]\n",
        "      figure.add_subplot(rows, cols, i)\n",
        "      plt.title(label)\n",
        "      plt.axis(\"off\")\n",
        "      plt.imshow(img.squeeze(), cmap=\"gray\")\n",
        "  plt.show()\n",
        "\n",
        "\n",
        "# create a dataloader. \n",
        "## A dataloader divides our data by a given batch_size and hands out each one to our model for training\n",
        "## Our train_dataloader will have 64 images per batch, which makes a total of 157 batches.\n",
        "bs=64\n",
        "train_dataloader = DataLoader(training_data, batch_size=bs)\n",
        "test_dataloader = DataLoader(test_dataset, batch_size=bs)\n",
        "\n",
        "print(10000/64, len(test_dataloader))\n"
      ]
    },
    {
      "cell_type": "markdown",
      "source": [
        "### Training the model"
      ],
      "metadata": {
        "id": "5clqR030VNhA"
      }
    },
    {
      "cell_type": "code",
      "source": [
        "############################################\n",
        "#### Initializing models and optimizer  ####\n",
        "############################################\n",
        "\n",
        "#### global model ##########\n",
        "# global_model =  VGG('VGG19').cuda()\n",
        "global_model =  MNIST_2NN().to(system_args.device)\n",
        "\n",
        "############## client models ##############\n",
        "# client_models = [ VGG('VGG19').cuda() for _ in range(num_selected)]\n",
        "client_models = [ MNIST_2NN().to(system_args.device) for _ in range(system_args.num_selected)]\n",
        "for model in client_models:\n",
        "    model.load_state_dict(global_model.state_dict()) ### initial synchronizing with global model \n",
        "\n",
        "############### optimizers ################\n",
        "opt = [optim.SGD(model.parameters(), lr=system_args.lr) for model in client_models]\n",
        "\n",
        "###### List containing info about learning #########\n",
        "losses_train = []\n",
        "losses_test = []\n",
        "acc_train = []\n",
        "acc_test = []\n",
        "# Runnining FL\n",
        "\n",
        "for r in range(system_args.num_rounds):\n",
        "    # select random clients\n",
        "    client_idx = np.random.permutation(system_args.num_clients)[:system_args.num_selected]\n",
        "    # client update\n",
        "    loss = 0\n",
        "    for i in tqdm(range(system_args.num_selected)):\n",
        "        loss += client_update(client_models[i], opt[i], train_loader[client_idx[i]], system_args)\n",
        "    \n",
        "    losses_train.append(loss)\n",
        "    # server aggregate\n",
        "    server_aggregate(global_model, client_models, system_args)\n",
        "    \n",
        "    test_loss, acc = test(global_model, test_loader)\n",
        "    losses_test.append(test_loss)\n",
        "    acc_test.append(acc)\n",
        "    print('%d-th round' % r)\n",
        "    print('average train loss %0.3g | test loss %0.3g | test acc: %0.3f' % (loss / system_args.num_selected, test_loss, acc))"
      ],
      "metadata": {
        "id": "O4lhiS_BVPjS",
        "outputId": "76676a25-2444-4af1-babe-d9e29e9dc7f0",
        "colab": {
          "base_uri": "https://localhost:8080/"
        }
      },
      "execution_count": 6,
      "outputs": [
        {
          "output_type": "stream",
          "name": "stderr",
          "text": [
            "100%|██████████| 10/10 [00:48<00:00,  4.84s/it]\n"
          ]
        },
        {
          "output_type": "stream",
          "name": "stdout",
          "text": [
            "0-th round\n",
            "average train loss -1.78 | test loss -1.81 | test acc: 0.098\n"
          ]
        },
        {
          "output_type": "stream",
          "name": "stderr",
          "text": [
            "100%|██████████| 10/10 [00:36<00:00,  3.69s/it]\n"
          ]
        },
        {
          "output_type": "stream",
          "name": "stdout",
          "text": [
            "1-th round\n",
            "average train loss nan | test loss nan | test acc: 0.098\n"
          ]
        },
        {
          "output_type": "stream",
          "name": "stderr",
          "text": [
            "100%|██████████| 10/10 [00:38<00:00,  3.81s/it]\n"
          ]
        },
        {
          "output_type": "stream",
          "name": "stdout",
          "text": [
            "2-th round\n",
            "average train loss nan | test loss nan | test acc: 0.098\n"
          ]
        },
        {
          "output_type": "stream",
          "name": "stderr",
          "text": [
            "100%|██████████| 10/10 [00:39<00:00,  3.99s/it]\n"
          ]
        },
        {
          "output_type": "stream",
          "name": "stdout",
          "text": [
            "3-th round\n",
            "average train loss nan | test loss nan | test acc: 0.098\n"
          ]
        },
        {
          "output_type": "stream",
          "name": "stderr",
          "text": [
            "100%|██████████| 10/10 [00:37<00:00,  3.73s/it]\n"
          ]
        },
        {
          "output_type": "stream",
          "name": "stdout",
          "text": [
            "4-th round\n",
            "average train loss nan | test loss nan | test acc: 0.098\n"
          ]
        }
      ]
    },
    {
      "cell_type": "markdown",
      "metadata": {
        "id": "LfoM0sTYanZ3"
      },
      "source": [
        "### Some model hyperparameters setting"
      ]
    },
    {
      "cell_type": "code",
      "execution_count": 7,
      "metadata": {
        "colab": {
          "base_uri": "https://localhost:8080/",
          "height": 683
        },
        "id": "a3zrsL8Ca4Wy",
        "outputId": "6b0e1cf7-9c46-4340-c46f-81d3ef348c68"
      },
      "outputs": [
        {
          "output_type": "display_data",
          "data": {
            "text/plain": [
              "<Figure size 720x360 with 1 Axes>"
            ],
            "image/png": "[encoded data removed]"
          },
          "metadata": {
            "needs_background": "light"
          }
        },
        {
          "output_type": "display_data",
          "data": {
            "text/plain": [
              "<Figure size 720x360 with 1 Axes>"
            ],
            "image/png": "[encoded data removed]"
          },
          "metadata": {
            "needs_background": "light"
          }
        }
      ],
      "source": [
        "\n",
        "plt.figure(figsize=(10,5))\n",
        "plt.title(\"Training and Validation Loss\")\n",
        "plt.plot(losses_train,label=\"train\")\n",
        "plt.plot(losses_test,label=\"test\")\n",
        "plt.xlabel(\"iterations\")\n",
        "plt.ylabel(\"Loss\")\n",
        "plt.legend()\n",
        "plt.savefig('FedAvg_Loss.png')\n",
        "plt.show()\n",
        "\n",
        "plt.figure(figsize=(10,5))\n",
        "plt.title(\"Test Data Accuracy\")\n",
        "plt.plot(acc_train,label=\"train\")\n",
        "plt.plot(acc_test,label=\"test\")\n",
        "plt.xlabel(\"iterations\")\n",
        "plt.ylabel(\"Accuracy\")\n",
        "plt.savefig('FedAvg_Accuracy.png')\n",
        "plt.legend()\n",
        "plt.show()\n",
        "\n"
      ]
    }
  ],
  "metadata": {
    "colab": {
      "collapsed_sections": [
        "AzC4m8_faVP4"
      ],
      "provenance": [],
      "include_colab_link": true
    },
    "kernelspec": {
      "display_name": "Python (tf)",
      "language": "python",
      "name": "tf"
    },
    "language_info": {
      "codemirror_mode": {
        "name": "ipython",
        "version": 3
      },
      "file_extension": ".py",
      "mimetype": "text/x-python",
      "name": "python",
      "nbconvert_exporter": "python",
      "pygments_lexer": "ipython3",
      "version": "3.9.7"
    }
  },
  "nbformat": 4,
  "nbformat_minor": 0
}